{
 "cells": [
  {
   "cell_type": "markdown",
   "metadata": {},
   "source": [
    "## 1 Functions and module"
   ]
  },
  {
   "cell_type": "code",
   "execution_count": 2,
   "metadata": {},
   "outputs": [],
   "source": [
    "import pandas as pd\n",
    "import gzip\n",
    "import glob\n",
    "import os\n",
    "import subprocess"
   ]
  },
  {
   "cell_type": "code",
   "execution_count": 5,
   "metadata": {},
   "outputs": [],
   "source": [
    "def get_ngs_dir(config_path,variable):\n",
    "    \"\"\"\n",
    "    Returns the value of NGS_DIR defined in the given config.sh file,\n",
    "    or None if it's not found or there's an error.\n",
    "    \"\"\"\n",
    "    # Run a subshell that sources config.sh and echoes $NGS_DIR\n",
    "    command = f\"bash -c 'source {config_path} && echo ${variable}'\"\n",
    "    try:\n",
    "        result = subprocess.run(\n",
    "            command, shell=True, check=True, capture_output=True, text=True\n",
    "        )\n",
    "        ngs_dir = result.stdout.strip()\n",
    "        # If NGS_DIR is not set or empty, return None\n",
    "        return ngs_dir if ngs_dir else None\n",
    "    except subprocess.CalledProcessError:\n",
    "        return None\n"
   ]
  },
  {
   "cell_type": "markdown",
   "metadata": {},
   "source": [
    "## 2 Input and output address"
   ]
  },
  {
   "cell_type": "code",
   "execution_count": 6,
   "metadata": {},
   "outputs": [],
   "source": [
    "parental_address = '/labs/mwinslow/Haiqing/UltraSeq_Projects/project1'"
   ]
  },
  {
   "cell_type": "markdown",
   "metadata": {},
   "source": [
    "## 3 Load config.sh"
   ]
  },
  {
   "cell_type": "code",
   "execution_count": 7,
   "metadata": {},
   "outputs": [
    {
     "name": "stdout",
     "output_type": "stream",
     "text": [
      "NGS_DIR= /labs/mwinslow/Haiqing/NGS_Raw_data/LA92-250304\n"
     ]
    }
   ],
   "source": [
    "temp = 'NGS_DIR'\n",
    "ngs_dir = get_ngs_dir(f\"{parental_address}/config.sh\",temp)\n",
    "print(f\"{temp}= {ngs_dir}\")\n"
   ]
  },
  {
   "cell_type": "code",
   "execution_count": 8,
   "metadata": {},
   "outputs": [
    {
     "name": "stdout",
     "output_type": "stream",
     "text": [
      "PROJECT_DIR= /labs/mwinslow/Haiqing/UltraSeq_Projects/project1\n"
     ]
    }
   ],
   "source": [
    "temp = 'PROJECT_DIR'\n",
    "project_dir = get_ngs_dir(f\"{parental_address}/config.sh\",temp)\n",
    "print(f\"{temp}= {project_dir}\")\n"
   ]
  },
  {
   "cell_type": "code",
   "execution_count": 9,
   "metadata": {},
   "outputs": [
    {
     "name": "stdout",
     "output_type": "stream",
     "text": [
      "/labs/mwinslow/Haiqing/NGS_Raw_data/LA92-250304/01.RawData\n",
      "/labs/mwinslow/Haiqing/UltraSeq_Projects/project1/01_data_collection/data\n"
     ]
    }
   ],
   "source": [
    "fastq_dir = ngs_dir+\"/01.RawData\"\n",
    "print(fastq_dir)\n",
    "\n",
    "output_prefix1 = project_dir+\"/01_data_collection/data\"\n",
    "print(output_prefix1)"
   ]
  },
  {
   "cell_type": "markdown",
   "metadata": {},
   "source": [
    "## 4 Generate file with necessary raw data address"
   ]
  },
  {
   "cell_type": "code",
   "execution_count": 10,
   "metadata": {},
   "outputs": [],
   "source": [
    "# find all the fastq.gz files \n",
    "temp_pattern = '/**/*fq.gz' # When recursive is set, ** followed by a path separator matches 0 or more subdirectories.\n",
    "fastq_address_list = glob.glob(fastq_dir+temp_pattern, recursive=True)"
   ]
  },
  {
   "cell_type": "code",
   "execution_count": 11,
   "metadata": {},
   "outputs": [
    {
     "data": {
      "text/plain": [
       "['/labs/mwinslow/Haiqing/NGS_Raw_data/LA92-250304/01.RawData/LA92_10/LA92_10_CKDL250005148-1A_22MKWKLT4_L5_1.fq.gz',\n",
       " '/labs/mwinslow/Haiqing/NGS_Raw_data/LA92-250304/01.RawData/LA92_10/LA92_10_CKDL250005148-1A_22MKWKLT4_L5_2.fq.gz',\n",
       " '/labs/mwinslow/Haiqing/NGS_Raw_data/LA92-250304/01.RawData/LA92_26/LA92_26_CKDL250005148-1A_22MKWKLT4_L5_2.fq.gz',\n",
       " '/labs/mwinslow/Haiqing/NGS_Raw_data/LA92-250304/01.RawData/LA92_26/LA92_26_CKDL250005148-1A_22MKWKLT4_L5_1.fq.gz',\n",
       " '/labs/mwinslow/Haiqing/NGS_Raw_data/LA92-250304/01.RawData/LA92_11/LA92_11_CKDL250005148-1A_22MKWKLT4_L5_1.fq.gz',\n",
       " '/labs/mwinslow/Haiqing/NGS_Raw_data/LA92-250304/01.RawData/LA92_11/LA92_11_CKDL250005148-1A_22MKWKLT4_L5_2.fq.gz',\n",
       " '/labs/mwinslow/Haiqing/NGS_Raw_data/LA92-250304/01.RawData/LA92_25/LA92_25_CKDL250005148-1A_22MKWKLT4_L5_2.fq.gz',\n",
       " '/labs/mwinslow/Haiqing/NGS_Raw_data/LA92-250304/01.RawData/LA92_25/LA92_25_CKDL250005148-1A_22MKWKLT4_L5_1.fq.gz',\n",
       " '/labs/mwinslow/Haiqing/NGS_Raw_data/LA92-250304/01.RawData/LA92_17/LA92_17_CKDL250005148-1A_22MKWKLT4_L5_1.fq.gz',\n",
       " '/labs/mwinslow/Haiqing/NGS_Raw_data/LA92-250304/01.RawData/LA92_17/LA92_17_CKDL250005148-1A_22MKWKLT4_L5_2.fq.gz',\n",
       " '/labs/mwinslow/Haiqing/NGS_Raw_data/LA92-250304/01.RawData/LA92_21/LA92_21_CKDL250005148-1A_22MKWKLT4_L5_1.fq.gz',\n",
       " '/labs/mwinslow/Haiqing/NGS_Raw_data/LA92-250304/01.RawData/LA92_21/LA92_21_CKDL250005148-1A_22MKWKLT4_L5_2.fq.gz',\n",
       " '/labs/mwinslow/Haiqing/NGS_Raw_data/LA92-250304/01.RawData/LA92_12/LA92_12_CKDL250005148-1A_22MKWKLT4_L5_1.fq.gz',\n",
       " '/labs/mwinslow/Haiqing/NGS_Raw_data/LA92-250304/01.RawData/LA92_12/LA92_12_CKDL250005148-1A_22MKWKLT4_L5_2.fq.gz',\n",
       " '/labs/mwinslow/Haiqing/NGS_Raw_data/LA92-250304/01.RawData/LA92_14/LA92_14_CKDL250005148-1A_22MKWKLT4_L5_1.fq.gz',\n",
       " '/labs/mwinslow/Haiqing/NGS_Raw_data/LA92-250304/01.RawData/LA92_14/LA92_14_CKDL250005148-1A_22MKWKLT4_L5_2.fq.gz',\n",
       " '/labs/mwinslow/Haiqing/NGS_Raw_data/LA92-250304/01.RawData/LA92_19/LA92_19_CKDL250005148-1A_22MKWKLT4_L5_2.fq.gz',\n",
       " '/labs/mwinslow/Haiqing/NGS_Raw_data/LA92-250304/01.RawData/LA92_19/LA92_19_CKDL250005148-1A_22MKWKLT4_L5_1.fq.gz',\n",
       " '/labs/mwinslow/Haiqing/NGS_Raw_data/LA92-250304/01.RawData/LA92_20/LA92_20_CKDL250005148-1A_22MKWKLT4_L5_2.fq.gz',\n",
       " '/labs/mwinslow/Haiqing/NGS_Raw_data/LA92-250304/01.RawData/LA92_20/LA92_20_CKDL250005148-1A_22MKWKLT4_L5_1.fq.gz',\n",
       " '/labs/mwinslow/Haiqing/NGS_Raw_data/LA92-250304/01.RawData/LA92_03/LA92_03_CKDL250005148-1A_22MKWKLT4_L5_1.fq.gz',\n",
       " '/labs/mwinslow/Haiqing/NGS_Raw_data/LA92-250304/01.RawData/LA92_03/LA92_03_CKDL250005148-1A_22MKWKLT4_L5_2.fq.gz',\n",
       " '/labs/mwinslow/Haiqing/NGS_Raw_data/LA92-250304/01.RawData/LA92_22/LA92_22_CKDL250005148-1A_22MKWKLT4_L5_2.fq.gz',\n",
       " '/labs/mwinslow/Haiqing/NGS_Raw_data/LA92-250304/01.RawData/LA92_22/LA92_22_CKDL250005148-1A_22MKWKLT4_L5_1.fq.gz',\n",
       " '/labs/mwinslow/Haiqing/NGS_Raw_data/LA92-250304/01.RawData/LA92_02/LA92_02_CKDL250005148-1A_22MKWKLT4_L5_2.fq.gz',\n",
       " '/labs/mwinslow/Haiqing/NGS_Raw_data/LA92-250304/01.RawData/LA92_02/LA92_02_CKDL250005148-1A_22MKWKLT4_L5_1.fq.gz',\n",
       " '/labs/mwinslow/Haiqing/NGS_Raw_data/LA92-250304/01.RawData/LA92_07/LA92_07_CKDL250005148-1A_22MKWKLT4_L5_1.fq.gz',\n",
       " '/labs/mwinslow/Haiqing/NGS_Raw_data/LA92-250304/01.RawData/LA92_07/LA92_07_CKDL250005148-1A_22MKWKLT4_L5_2.fq.gz',\n",
       " '/labs/mwinslow/Haiqing/NGS_Raw_data/LA92-250304/01.RawData/LA92_27/LA92_27_CKDL250005148-1A_22MKWKLT4_L5_1.fq.gz',\n",
       " '/labs/mwinslow/Haiqing/NGS_Raw_data/LA92-250304/01.RawData/LA92_27/LA92_27_CKDL250005148-1A_22MKWKLT4_L5_2.fq.gz',\n",
       " '/labs/mwinslow/Haiqing/NGS_Raw_data/LA92-250304/01.RawData/LA92_28/LA92_28_CKDL250005148-1A_22MKWKLT4_L5_2.fq.gz',\n",
       " '/labs/mwinslow/Haiqing/NGS_Raw_data/LA92-250304/01.RawData/LA92_28/LA92_28_CKDL250005148-1A_22MKWKLT4_L5_1.fq.gz',\n",
       " '/labs/mwinslow/Haiqing/NGS_Raw_data/LA92-250304/01.RawData/LA92_29/LA92_29_CKDL250005148-1A_22MKWKLT4_L5_2.fq.gz',\n",
       " '/labs/mwinslow/Haiqing/NGS_Raw_data/LA92-250304/01.RawData/LA92_29/LA92_29_CKDL250005148-1A_22MKWKLT4_L5_1.fq.gz',\n",
       " '/labs/mwinslow/Haiqing/NGS_Raw_data/LA92-250304/01.RawData/LA92_15/LA92_15_CKDL250005148-1A_22MKWKLT4_L5_2.fq.gz',\n",
       " '/labs/mwinslow/Haiqing/NGS_Raw_data/LA92-250304/01.RawData/LA92_15/LA92_15_CKDL250005148-1A_22MKWKLT4_L5_1.fq.gz',\n",
       " '/labs/mwinslow/Haiqing/NGS_Raw_data/LA92-250304/01.RawData/LA92_04/LA92_04_CKDL250005148-1A_22MKWKLT4_L5_1.fq.gz',\n",
       " '/labs/mwinslow/Haiqing/NGS_Raw_data/LA92-250304/01.RawData/LA92_04/LA92_04_CKDL250005148-1A_22MKWKLT4_L5_2.fq.gz',\n",
       " '/labs/mwinslow/Haiqing/NGS_Raw_data/LA92-250304/01.RawData/LA92_05/LA92_05_CKDL250005148-1A_22MKWKLT4_L5_1.fq.gz',\n",
       " '/labs/mwinslow/Haiqing/NGS_Raw_data/LA92-250304/01.RawData/LA92_05/LA92_05_CKDL250005148-1A_22MKWKLT4_L5_2.fq.gz',\n",
       " '/labs/mwinslow/Haiqing/NGS_Raw_data/LA92-250304/01.RawData/LA92_18/LA92_18_CKDL250005148-1A_22MKWKLT4_L5_2.fq.gz',\n",
       " '/labs/mwinslow/Haiqing/NGS_Raw_data/LA92-250304/01.RawData/LA92_18/LA92_18_CKDL250005148-1A_22MKWKLT4_L5_1.fq.gz',\n",
       " '/labs/mwinslow/Haiqing/NGS_Raw_data/LA92-250304/01.RawData/PR_plasmid/PR_plasmid_CKDL250005148-1A_22MKWKLT4_L5_2.fq.gz',\n",
       " '/labs/mwinslow/Haiqing/NGS_Raw_data/LA92-250304/01.RawData/PR_plasmid/PR_plasmid_CKDL250005148-1A_22MKWKLT4_L5_1.fq.gz',\n",
       " '/labs/mwinslow/Haiqing/NGS_Raw_data/LA92-250304/01.RawData/LA92_16/LA92_16_CKDL250005148-1A_22MKWKLT4_L5_1.fq.gz',\n",
       " '/labs/mwinslow/Haiqing/NGS_Raw_data/LA92-250304/01.RawData/LA92_16/LA92_16_CKDL250005148-1A_22MKWKLT4_L5_2.fq.gz',\n",
       " '/labs/mwinslow/Haiqing/NGS_Raw_data/LA92-250304/01.RawData/LA92_23/LA92_23_CKDL250005148-1A_22MKWKLT4_L5_2.fq.gz',\n",
       " '/labs/mwinslow/Haiqing/NGS_Raw_data/LA92-250304/01.RawData/LA92_23/LA92_23_CKDL250005148-1A_22MKWKLT4_L5_1.fq.gz',\n",
       " '/labs/mwinslow/Haiqing/NGS_Raw_data/LA92-250304/01.RawData/KS_Plasmid/KS_Plasmid_CKDL250005148-1A_22MKWKLT4_L5_2.fq.gz',\n",
       " '/labs/mwinslow/Haiqing/NGS_Raw_data/LA92-250304/01.RawData/KS_Plasmid/KS_Plasmid_CKDL250005148-1A_22MKWKLT4_L5_1.fq.gz',\n",
       " '/labs/mwinslow/Haiqing/NGS_Raw_data/LA92-250304/01.RawData/LA92_06/LA92_06_CKDL250005148-1A_22MKWKLT4_L5_2.fq.gz',\n",
       " '/labs/mwinslow/Haiqing/NGS_Raw_data/LA92-250304/01.RawData/LA92_06/LA92_06_CKDL250005148-1A_22MKWKLT4_L5_1.fq.gz',\n",
       " '/labs/mwinslow/Haiqing/NGS_Raw_data/LA92-250304/01.RawData/LA92_24/LA92_24_CKDL250005148-1A_22MKWKLT4_L5_2.fq.gz',\n",
       " '/labs/mwinslow/Haiqing/NGS_Raw_data/LA92-250304/01.RawData/LA92_24/LA92_24_CKDL250005148-1A_22MKWKLT4_L5_1.fq.gz',\n",
       " '/labs/mwinslow/Haiqing/NGS_Raw_data/LA92-250304/01.RawData/JT_plasmid/JT_plasmid_CKDL250005148-1A_22MKWKLT4_L5_2.fq.gz',\n",
       " '/labs/mwinslow/Haiqing/NGS_Raw_data/LA92-250304/01.RawData/JT_plasmid/JT_plasmid_CKDL250005148-1A_22MKWKLT4_L5_1.fq.gz',\n",
       " '/labs/mwinslow/Haiqing/NGS_Raw_data/LA92-250304/01.RawData/LA92_08/LA92_08_CKDL250005148-1A_22MKWKLT4_L5_1.fq.gz',\n",
       " '/labs/mwinslow/Haiqing/NGS_Raw_data/LA92-250304/01.RawData/LA92_08/LA92_08_CKDL250005148-1A_22MKWKLT4_L5_2.fq.gz',\n",
       " '/labs/mwinslow/Haiqing/NGS_Raw_data/LA92-250304/01.RawData/LA92_01/LA92_01_CKDL250005148-1A_22MKWKLT4_L5_1.fq.gz',\n",
       " '/labs/mwinslow/Haiqing/NGS_Raw_data/LA92-250304/01.RawData/LA92_01/LA92_01_CKDL250005148-1A_22MKWKLT4_L5_2.fq.gz']"
      ]
     },
     "execution_count": 11,
     "metadata": {},
     "output_type": "execute_result"
    }
   ],
   "source": [
    "fastq_address_list"
   ]
  },
  {
   "cell_type": "code",
   "execution_count": 12,
   "metadata": {},
   "outputs": [],
   "source": [
    "read1_address = [x for x in fastq_address_list if '_1.fq' in x]\n",
    "read2_address = [x for x in fastq_address_list if '_2.fq' in x]"
   ]
  },
  {
   "cell_type": "code",
   "execution_count": 13,
   "metadata": {},
   "outputs": [],
   "source": [
    "temp_dic1 = {}\n",
    "for x in read1_address:\n",
    "    temp = x.split('/')[-2]\n",
    "    if temp in temp_dic1.keys():\n",
    "        temp_dic1[temp].append(x)\n",
    "    else:\n",
    "        temp_dic1[temp] = [x]"
   ]
  },
  {
   "cell_type": "code",
   "execution_count": 14,
   "metadata": {},
   "outputs": [],
   "source": [
    "temp_dic2 = {}\n",
    "for x in read2_address:\n",
    "    temp = x.split('/')[-2]\n",
    "    if temp in temp_dic2.keys():\n",
    "        temp_dic2[temp].append(x)\n",
    "    else:\n",
    "        temp_dic2[temp] = [x]"
   ]
  },
  {
   "cell_type": "code",
   "execution_count": 15,
   "metadata": {},
   "outputs": [],
   "source": [
    "read1_df = pd.DataFrame({'Sample_ID':temp_dic1.keys()})\n",
    "read2_df = pd.DataFrame({'Sample_ID':temp_dic2.keys()})"
   ]
  },
  {
   "cell_type": "code",
   "execution_count": 16,
   "metadata": {},
   "outputs": [],
   "source": [
    "read1_df['Address'] = [' '.join(sorted(x)) for x in temp_dic1.values()]\n",
    "read2_df['Address'] = [' '.join(sorted(x)) for x in temp_dic2.values()]"
   ]
  },
  {
   "cell_type": "code",
   "execution_count": 17,
   "metadata": {},
   "outputs": [],
   "source": [
    "read_df = pd.merge(read1_df,read2_df, on ='Sample_ID',\n",
    "                   how ='outer', suffixes = ('_r1', '_r2'))"
   ]
  },
  {
   "cell_type": "code",
   "execution_count": 18,
   "metadata": {},
   "outputs": [
    {
     "data": {
      "text/plain": [
       "(30, 3)"
      ]
     },
     "execution_count": 18,
     "metadata": {},
     "output_type": "execute_result"
    }
   ],
   "source": [
    "read_df.shape"
   ]
  },
  {
   "cell_type": "code",
   "execution_count": 19,
   "metadata": {},
   "outputs": [
    {
     "data": {
      "text/html": [
       "<div>\n",
       "<style scoped>\n",
       "    .dataframe tbody tr th:only-of-type {\n",
       "        vertical-align: middle;\n",
       "    }\n",
       "\n",
       "    .dataframe tbody tr th {\n",
       "        vertical-align: top;\n",
       "    }\n",
       "\n",
       "    .dataframe thead th {\n",
       "        text-align: right;\n",
       "    }\n",
       "</style>\n",
       "<table border=\"1\" class=\"dataframe\">\n",
       "  <thead>\n",
       "    <tr style=\"text-align: right;\">\n",
       "      <th></th>\n",
       "      <th>Sample_ID</th>\n",
       "      <th>Address_r1</th>\n",
       "      <th>Address_r2</th>\n",
       "    </tr>\n",
       "  </thead>\n",
       "  <tbody>\n",
       "    <tr>\n",
       "      <th>0</th>\n",
       "      <td>LA92_10</td>\n",
       "      <td>/labs/mwinslow/Haiqing/NGS_Raw_data/LA92-25030...</td>\n",
       "      <td>/labs/mwinslow/Haiqing/NGS_Raw_data/LA92-25030...</td>\n",
       "    </tr>\n",
       "    <tr>\n",
       "      <th>1</th>\n",
       "      <td>LA92_26</td>\n",
       "      <td>/labs/mwinslow/Haiqing/NGS_Raw_data/LA92-25030...</td>\n",
       "      <td>/labs/mwinslow/Haiqing/NGS_Raw_data/LA92-25030...</td>\n",
       "    </tr>\n",
       "    <tr>\n",
       "      <th>2</th>\n",
       "      <td>LA92_11</td>\n",
       "      <td>/labs/mwinslow/Haiqing/NGS_Raw_data/LA92-25030...</td>\n",
       "      <td>/labs/mwinslow/Haiqing/NGS_Raw_data/LA92-25030...</td>\n",
       "    </tr>\n",
       "    <tr>\n",
       "      <th>3</th>\n",
       "      <td>LA92_25</td>\n",
       "      <td>/labs/mwinslow/Haiqing/NGS_Raw_data/LA92-25030...</td>\n",
       "      <td>/labs/mwinslow/Haiqing/NGS_Raw_data/LA92-25030...</td>\n",
       "    </tr>\n",
       "    <tr>\n",
       "      <th>4</th>\n",
       "      <td>LA92_17</td>\n",
       "      <td>/labs/mwinslow/Haiqing/NGS_Raw_data/LA92-25030...</td>\n",
       "      <td>/labs/mwinslow/Haiqing/NGS_Raw_data/LA92-25030...</td>\n",
       "    </tr>\n",
       "  </tbody>\n",
       "</table>\n",
       "</div>"
      ],
      "text/plain": [
       "  Sample_ID                                         Address_r1  \\\n",
       "0   LA92_10  /labs/mwinslow/Haiqing/NGS_Raw_data/LA92-25030...   \n",
       "1   LA92_26  /labs/mwinslow/Haiqing/NGS_Raw_data/LA92-25030...   \n",
       "2   LA92_11  /labs/mwinslow/Haiqing/NGS_Raw_data/LA92-25030...   \n",
       "3   LA92_25  /labs/mwinslow/Haiqing/NGS_Raw_data/LA92-25030...   \n",
       "4   LA92_17  /labs/mwinslow/Haiqing/NGS_Raw_data/LA92-25030...   \n",
       "\n",
       "                                          Address_r2  \n",
       "0  /labs/mwinslow/Haiqing/NGS_Raw_data/LA92-25030...  \n",
       "1  /labs/mwinslow/Haiqing/NGS_Raw_data/LA92-25030...  \n",
       "2  /labs/mwinslow/Haiqing/NGS_Raw_data/LA92-25030...  \n",
       "3  /labs/mwinslow/Haiqing/NGS_Raw_data/LA92-25030...  \n",
       "4  /labs/mwinslow/Haiqing/NGS_Raw_data/LA92-25030...  "
      ]
     },
     "execution_count": 19,
     "metadata": {},
     "output_type": "execute_result"
    }
   ],
   "source": [
    "read_df.head()"
   ]
  },
  {
   "cell_type": "code",
   "execution_count": 20,
   "metadata": {},
   "outputs": [],
   "source": [
    "# filter data\n",
    "read_df = read_df[read_df.Sample_ID.str.contains('LA92')]"
   ]
  },
  {
   "cell_type": "code",
   "execution_count": 21,
   "metadata": {},
   "outputs": [
    {
     "name": "stdout",
     "output_type": "stream",
     "text": [
      "There are 27 samples for the Kat7 dual-guide project\n"
     ]
    }
   ],
   "source": [
    "print(f'There are {read_df.shape[0]} samples for the Kat7 dual-guide project')\n",
    "# note from the library pooling form, samples LA92_09 and LA92_13 are not included."
   ]
  },
  {
   "cell_type": "markdown",
   "metadata": {},
   "source": [
    "## 5 Output data"
   ]
  },
  {
   "cell_type": "code",
   "execution_count": 22,
   "metadata": {},
   "outputs": [],
   "source": [
    "temp_o = output_prefix1 +\"/NGS_address\""
   ]
  },
  {
   "cell_type": "code",
   "execution_count": 23,
   "metadata": {},
   "outputs": [],
   "source": [
    "file_a = open(temp_o, 'w')\n",
    "for index, row in read_df.iterrows():\n",
    "    t1 = row['Address_r1']\n",
    "    t2 = row['Address_r2']\n",
    "    t3 = row['Sample_ID']\n",
    "    temp_s = ','.join([t1,t2,t3])+'\\n'\n",
    "    file_a.write(temp_s)\n",
    "file_a.close()"
   ]
  }
 ],
 "metadata": {
  "kernelspec": {
   "display_name": "UltraSeq",
   "language": "python",
   "name": "python3"
  },
  "language_info": {
   "codemirror_mode": {
    "name": "ipython",
    "version": 3
   },
   "file_extension": ".py",
   "mimetype": "text/x-python",
   "name": "python",
   "nbconvert_exporter": "python",
   "pygments_lexer": "ipython3",
   "version": "3.10.6"
  }
 },
 "nbformat": 4,
 "nbformat_minor": 2
}
