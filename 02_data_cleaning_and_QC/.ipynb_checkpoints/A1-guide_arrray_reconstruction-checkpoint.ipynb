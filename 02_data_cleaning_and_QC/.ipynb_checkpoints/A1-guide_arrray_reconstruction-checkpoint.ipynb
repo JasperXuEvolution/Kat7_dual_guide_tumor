{
 "cells": [
  {
   "cell_type": "code",
   "execution_count": 3,
   "id": "e26ecaad-77e7-4d27-8308-32ebdb082065",
   "metadata": {},
   "outputs": [],
   "source": [
    "import numpy as np\n",
    "import pandas as pd"
   ]
  },
  {
   "cell_type": "code",
   "execution_count": 4,
   "id": "0a7c1a73-fc24-4887-867c-bd36a3f4add5",
   "metadata": {},
   "outputs": [],
   "source": [
    "df = pd.read_csv('data/guide_reference-Kat7_dual_guide.csv')"
   ]
  },
  {
   "cell_type": "code",
   "execution_count": 15,
   "id": "d114ad63-f8a5-40b3-9097-f7df87a5c880",
   "metadata": {},
   "outputs": [
    {
     "data": {
      "text/html": [
       "<div>\n",
       "<style scoped>\n",
       "    .dataframe tbody tr th:only-of-type {\n",
       "        vertical-align: middle;\n",
       "    }\n",
       "\n",
       "    .dataframe tbody tr th {\n",
       "        vertical-align: top;\n",
       "    }\n",
       "\n",
       "    .dataframe thead th {\n",
       "        text-align: right;\n",
       "    }\n",
       "</style>\n",
       "<table border=\"1\" class=\"dataframe\">\n",
       "  <thead>\n",
       "    <tr style=\"text-align: right;\">\n",
       "      <th></th>\n",
       "      <th>Gene</th>\n",
       "      <th>gRNA_complete</th>\n",
       "      <th>Position</th>\n",
       "    </tr>\n",
       "  </thead>\n",
       "  <tbody>\n",
       "    <tr>\n",
       "      <th>0</th>\n",
       "      <td>Curate_NT_1</td>\n",
       "      <td>CACGGGCAGCGATCTAGTTG</td>\n",
       "      <td>G1</td>\n",
       "    </tr>\n",
       "    <tr>\n",
       "      <th>1</th>\n",
       "      <td>Curate_NT_2</td>\n",
       "      <td>CTTCACGCCTTGGACCGATA</td>\n",
       "      <td>G1</td>\n",
       "    </tr>\n",
       "    <tr>\n",
       "      <th>2</th>\n",
       "      <td>Curate_safe_16</td>\n",
       "      <td>AGTACACTATAGTGGCTAGT</td>\n",
       "      <td>G1</td>\n",
       "    </tr>\n",
       "    <tr>\n",
       "      <th>3</th>\n",
       "      <td>Curate_safe_37</td>\n",
       "      <td>ATGTAGGAGCTATAACATC</td>\n",
       "      <td>G1</td>\n",
       "    </tr>\n",
       "    <tr>\n",
       "      <th>4</th>\n",
       "      <td>Ing5</td>\n",
       "      <td>CTAGACCAGAGAACAGAAGG</td>\n",
       "      <td>G1</td>\n",
       "    </tr>\n",
       "  </tbody>\n",
       "</table>\n",
       "</div>"
      ],
      "text/plain": [
       "             Gene         gRNA_complete Position\n",
       "0     Curate_NT_1  CACGGGCAGCGATCTAGTTG       G1\n",
       "1     Curate_NT_2  CTTCACGCCTTGGACCGATA       G1\n",
       "2  Curate_safe_16  AGTACACTATAGTGGCTAGT       G1\n",
       "3  Curate_safe_37   ATGTAGGAGCTATAACATC       G1\n",
       "4            Ing5  CTAGACCAGAGAACAGAAGG       G1"
      ]
     },
     "execution_count": 15,
     "metadata": {},
     "output_type": "execute_result"
    }
   ],
   "source": [
    "df.head()"
   ]
  },
  {
   "cell_type": "code",
   "execution_count": 16,
   "id": "6e681072-c7ef-45b7-a452-c523e337732d",
   "metadata": {},
   "outputs": [
    {
     "data": {
      "text/html": [
       "<div>\n",
       "<style scoped>\n",
       "    .dataframe tbody tr th:only-of-type {\n",
       "        vertical-align: middle;\n",
       "    }\n",
       "\n",
       "    .dataframe tbody tr th {\n",
       "        vertical-align: top;\n",
       "    }\n",
       "\n",
       "    .dataframe thead th {\n",
       "        text-align: right;\n",
       "    }\n",
       "</style>\n",
       "<table border=\"1\" class=\"dataframe\">\n",
       "  <thead>\n",
       "    <tr style=\"text-align: right;\">\n",
       "      <th></th>\n",
       "      <th>Gene</th>\n",
       "      <th>gRNA_complete</th>\n",
       "      <th>Position</th>\n",
       "    </tr>\n",
       "  </thead>\n",
       "  <tbody>\n",
       "    <tr>\n",
       "      <th>0</th>\n",
       "      <td>Curate_NT_1</td>\n",
       "      <td>CACGGGCAGCGATCTAGTTG</td>\n",
       "      <td>G1</td>\n",
       "    </tr>\n",
       "    <tr>\n",
       "      <th>1</th>\n",
       "      <td>Curate_NT_2</td>\n",
       "      <td>CTTCACGCCTTGGACCGATA</td>\n",
       "      <td>G1</td>\n",
       "    </tr>\n",
       "    <tr>\n",
       "      <th>2</th>\n",
       "      <td>Curate_safe_16</td>\n",
       "      <td>AGTACACTATAGTGGCTAGT</td>\n",
       "      <td>G1</td>\n",
       "    </tr>\n",
       "    <tr>\n",
       "      <th>3</th>\n",
       "      <td>Curate_safe_37</td>\n",
       "      <td>ATGTAGGAGCTATAACATC</td>\n",
       "      <td>G1</td>\n",
       "    </tr>\n",
       "    <tr>\n",
       "      <th>4</th>\n",
       "      <td>Ing5</td>\n",
       "      <td>CTAGACCAGAGAACAGAAGG</td>\n",
       "      <td>G1</td>\n",
       "    </tr>\n",
       "  </tbody>\n",
       "</table>\n",
       "</div>"
      ],
      "text/plain": [
       "             Gene         gRNA_complete Position\n",
       "0     Curate_NT_1  CACGGGCAGCGATCTAGTTG       G1\n",
       "1     Curate_NT_2  CTTCACGCCTTGGACCGATA       G1\n",
       "2  Curate_safe_16  AGTACACTATAGTGGCTAGT       G1\n",
       "3  Curate_safe_37   ATGTAGGAGCTATAACATC       G1\n",
       "4            Ing5  CTAGACCAGAGAACAGAAGG       G1"
      ]
     },
     "execution_count": 16,
     "metadata": {},
     "output_type": "execute_result"
    }
   ],
   "source": [
    "df_sub1 = df[~df.Gene.str.contains('Spikein')].copy()\n",
    "df_sub1.head()"
   ]
  },
  {
   "cell_type": "code",
   "execution_count": null,
   "id": "b0a26d1b-e31b-41d3-b107-e56b9e956576",
   "metadata": {},
   "outputs": [],
   "source": [
    "df_sub1[df_sub1.Gene.str.contains('Curate_')]\n",
    "df_sub1.Gene.replace('Curate_','')"
   ]
  },
  {
   "cell_type": "code",
   "execution_count": 11,
   "id": "8cff67f0-3dae-42f3-ae38-409d73e5ca73",
   "metadata": {},
   "outputs": [
    {
     "data": {
      "text/html": [
       "<div>\n",
       "<style scoped>\n",
       "    .dataframe tbody tr th:only-of-type {\n",
       "        vertical-align: middle;\n",
       "    }\n",
       "\n",
       "    .dataframe tbody tr th {\n",
       "        vertical-align: top;\n",
       "    }\n",
       "\n",
       "    .dataframe thead th {\n",
       "        text-align: right;\n",
       "    }\n",
       "</style>\n",
       "<table border=\"1\" class=\"dataframe\">\n",
       "  <thead>\n",
       "    <tr style=\"text-align: right;\">\n",
       "      <th></th>\n",
       "      <th>Gene</th>\n",
       "      <th>gRNA_complete</th>\n",
       "      <th>Position</th>\n",
       "    </tr>\n",
       "  </thead>\n",
       "  <tbody>\n",
       "    <tr>\n",
       "      <th>40</th>\n",
       "      <td>Spikein_1</td>\n",
       "      <td>ACCTTACAATGTTATATT</td>\n",
       "      <td>G1</td>\n",
       "    </tr>\n",
       "    <tr>\n",
       "      <th>41</th>\n",
       "      <td>Spikein_2</td>\n",
       "      <td>GTGACACTTTCTATTAGGT</td>\n",
       "      <td>G1</td>\n",
       "    </tr>\n",
       "    <tr>\n",
       "      <th>42</th>\n",
       "      <td>Spikein_3</td>\n",
       "      <td>CCTTGAAATCAAATCAAACC</td>\n",
       "      <td>G1</td>\n",
       "    </tr>\n",
       "    <tr>\n",
       "      <th>43</th>\n",
       "      <td>Spikein_4</td>\n",
       "      <td>GTGACACTTTCTATTAGGT</td>\n",
       "      <td>G2</td>\n",
       "    </tr>\n",
       "  </tbody>\n",
       "</table>\n",
       "</div>"
      ],
      "text/plain": [
       "         Gene         gRNA_complete Position\n",
       "40  Spikein_1    ACCTTACAATGTTATATT       G1\n",
       "41  Spikein_2   GTGACACTTTCTATTAGGT       G1\n",
       "42  Spikein_3  CCTTGAAATCAAATCAAACC       G1\n",
       "43  Spikein_4   GTGACACTTTCTATTAGGT       G2"
      ]
     },
     "execution_count": 11,
     "metadata": {},
     "output_type": "execute_result"
    }
   ],
   "source": [
    "df_sub2 = df[df.Gene.str.contains('Spikein')].copy()\n",
    "df_sub2 "
   ]
  },
  {
   "cell_type": "code",
   "execution_count": null,
   "id": "17058f04-6845-4f3c-871c-5265f312a484",
   "metadata": {},
   "outputs": [],
   "source": []
  }
 ],
 "metadata": {
  "kernelspec": {
   "display_name": "UltraSeq",
   "language": "python",
   "name": "ultraseq"
  },
  "language_info": {
   "codemirror_mode": {
    "name": "ipython",
    "version": 3
   },
   "file_extension": ".py",
   "mimetype": "text/x-python",
   "name": "python",
   "nbconvert_exporter": "python",
   "pygments_lexer": "ipython3",
   "version": "3.10.6"
  }
 },
 "nbformat": 4,
 "nbformat_minor": 5
}
